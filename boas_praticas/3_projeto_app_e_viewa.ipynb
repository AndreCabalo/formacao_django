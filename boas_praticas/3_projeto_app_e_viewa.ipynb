{
 "cells": [
  {
   "cell_type": "markdown",
   "metadata": {},
   "source": [
    "Com o venv ativo, iremos dar o comando:\n"
   ]
  },
  {
   "cell_type": "code",
   "execution_count": null,
   "metadata": {
    "vscode": {
     "languageId": "powershell"
    }
   },
   "outputs": [],
   "source": [
    "python manage.py help "
   ]
  },
  {
   "cell_type": "markdown",
   "metadata": {},
   "source": [
    "Nos aparecera inúmeros comandos!\n",
    "\n",
    "E iremos iniciar nossa jornada utilizando o comando \"StartApp\" da seguinte maneira:\n",
    "\n",
    "- Onde galeria, é o nome que daremos para o app"
   ]
  },
  {
   "cell_type": "code",
   "execution_count": null,
   "metadata": {},
   "outputs": [],
   "source": [
    "python manage.py startapp galeria"
   ]
  },
  {
   "cell_type": "markdown",
   "metadata": {},
   "source": [
    "Agora iriemos apontar para o nosso SETUP que o GALERIA, faz parte do nosso projeto, para isso acessaremos a pasta SETUP>SETTINGS.PY e adicionaremos em INSTALED_APPS, GALERIA da seguinte maneira:"
   ]
  },
  {
   "cell_type": "code",
   "execution_count": null,
   "metadata": {},
   "outputs": [],
   "source": [
    "INSTALLED_APPS = [\n",
    "    'django.contrib.admin',\n",
    "    'django.contrib.auth',\n",
    "    'django.contrib.contenttypes',\n",
    "    'django.contrib.sessions',\n",
    "    'django.contrib.messages',\n",
    "    'django.contrib.staticfiles',\n",
    "    'galeria',                    //Adicionado aqui\n",
    "]"
   ]
  },
  {
   "cell_type": "markdown",
   "metadata": {},
   "source": [
    "Apos isso daremos um comando no terminal:"
   ]
  },
  {
   "cell_type": "code",
   "execution_count": null,
   "metadata": {},
   "outputs": [],
   "source": [
    "python manage.py runserver"
   ]
  },
  {
   "cell_type": "markdown",
   "metadata": {},
   "source": [
    "Nada mudou correto? para enxergarmos alguma mudança visual, vamos acessar nosso app GALERIA> arquivo VIEWS, este é o arquivo responsável pelo visual do nosso app!"
   ]
  },
  {
   "cell_type": "code",
   "execution_count": null,
   "metadata": {},
   "outputs": [],
   "source": [
    "# 1- Importamos um response \n",
    "from django.http import HttpResponse\n",
    "\n",
    "# 2- Criamos um função que faz com que aparece o comando htlm com Alura Space \n",
    "def index(request):\n",
    "    return HttpResponse('<h1>Alura Space</h1>')"
   ]
  },
  {
   "cell_type": "markdown",
   "metadata": {},
   "source": [
    "Precisamos agora criar um rota para acessar esta view! por tanto iremos em SETUP> URLS.PY adcionamos:"
   ]
  },
  {
   "cell_type": "code",
   "execution_count": null,
   "metadata": {},
   "outputs": [],
   "source": [
    "# 3- Importando nossa index de galeria>views\n",
    "from galera.views import index\n",
    "\n",
    "urlpatterns = [\n",
    "    path('admin/', admin.site.urls),\n",
    "    path('',index)           #Adicionamos o caminho a index\n",
    "]"
   ]
  },
  {
   "cell_type": "markdown",
   "metadata": {},
   "source": [
    "Agora para testar se funcionou basta acessar a pagina, se quiser iniciar ela caso tenha caido, o comando com venv ativo é :"
   ]
  },
  {
   "cell_type": "code",
   "execution_count": null,
   "metadata": {},
   "outputs": [],
   "source": [
    "python manage.py runserver"
   ]
  },
  {
   "cell_type": "markdown",
   "metadata": {},
   "source": [
    "# Isolando as URLS\n",
    "\n",
    "A invés de ficar carregando paths para cada pagína, podemos isolar este roteamento para dentro do nosso ap galeria, criando um arquivo URLS.PY igual temos na pasta SETUP porém na PASTA GALERIA!\n",
    "\n",
    "Por tanto criando este arquivo ele ficará assim:"
   ]
  },
  {
   "cell_type": "code",
   "execution_count": null,
   "metadata": {},
   "outputs": [],
   "source": [
    "# Iremos importar:\n",
    "from django.urls import path\n",
    "from galeria.views import index\n",
    "\n",
    "# Criaremos um lista de urls, que a importaremos la para setup urls.py\n",
    "urlpatterns = [\n",
    "    path('',index)\n",
    "]"
   ]
  },
  {
   "cell_type": "markdown",
   "metadata": {},
   "source": [
    "E o arquivo URLS.PY da PASTA SETUP ficara assim:"
   ]
  },
  {
   "cell_type": "code",
   "execution_count": null,
   "metadata": {},
   "outputs": [],
   "source": [
    "from django.contrib import admin\n",
    "from django.urls import path, include\n",
    "\n",
    "urlpatterns = [\n",
    "    path('admin/', admin.site.urls),\n",
    "    path('',include('galeria.urls'))           #Adicionamos o caminho a index\n",
    "]"
   ]
  },
  {
   "cell_type": "markdown",
   "metadata": {},
   "source": [
    "# Templates\n",
    "\n",
    "Criando uma pasta chamada TEMPLATE na raiz principal do projeto\n",
    "\n",
    "No arquivo settings.py de SETUP, passaremos os DIRS.\n",
    "\n"
   ]
  },
  {
   "cell_type": "code",
   "execution_count": null,
   "metadata": {},
   "outputs": [],
   "source": [
    "TEMPLATES = [\n",
    "    {\n",
    "        'BACKEND': 'django.template.backends.django.DjangoTemplates',\n",
    "        'DIRS': [os.path.join(BASE_DIR,'templates')],            #DIRs é referente ao local\n",
    "        'APP_DIRS': True,\n",
    "        'OPTIONS': {\n",
    "            'context_processors': [\n",
    "                'django.template.context_processors.debug',\n",
    "                'django.template.context_processors.request',\n",
    "                'django.contrib.auth.context_processors.auth',\n",
    "                'django.contrib.messages.context_processors.messages',\n",
    "            ],\n",
    "        },\n",
    "    },\n",
    "]"
   ]
  },
  {
   "cell_type": "markdown",
   "metadata": {},
   "source": [
    "Precisaremos tbm criar um html qualquer para testar nosso template, por tanto crie um arquivo html na pasta template e coloque qualquer frase para testar\n",
    "\n",
    "Em seguida vamos aponta-la no VIEWS de GALERIA da seguinte forma:"
   ]
  },
  {
   "cell_type": "code",
   "execution_count": null,
   "metadata": {},
   "outputs": [],
   "source": [
    "from django.shortcuts import render\n",
    "\n",
    "# 2- Criamos um função que faz com que aparece o comando htlm com Alura Space \n",
    "def index(request):\n",
    "    return render(request, 'index.html') #usando sempre o render, tendo o primeiro parametro sempre request, apontamos o nome do arquivo"
   ]
  }
 ],
 "metadata": {
  "language_info": {
   "name": "python"
  }
 },
 "nbformat": 4,
 "nbformat_minor": 2
}
