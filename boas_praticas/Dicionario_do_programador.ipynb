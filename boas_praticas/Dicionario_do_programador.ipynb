{
 "cells": [
  {
   "cell_type": "markdown",
   "metadata": {},
   "source": [
    "# Django\n",
    "\n",
    "- Django segue o padrão model-view-template (MVT)\n",
    "- Conta base para cirar aplicações web escalaveís\n",
    "\n",
    "Criando por Adrian Holovaty e Simon Willison em junho de 2005\n",
    "\n",
    "Usado por programas/empresas como:\n",
    "\n",
    "- Instagram\n",
    "- Mozila\n",
    "- Pinterest\n",
    "\n",
    "Projeto Open Source!\n",
    "\n",
    "## MVT (Model-View-Template)\n",
    "\n",
    "M - Model, facilita a abstração, manipulação e estruturação dos dados da aplicação web\n",
    "\n",
    "Exemplo de um model que representa uma pessoa:"
   ]
  },
  {
   "cell_type": "code",
   "execution_count": null,
   "metadata": {},
   "outputs": [],
   "source": [
    "from django.db import models\n",
    "\n",
    "class Pessoa(models.Model):\n",
    "    nome = models.CharField(max_length=50)\n",
    "    sobrenome = models.CharField(max_lenght=50)\n",
    "    data_nascimento=models.DateTimeField"
   ]
  },
  {
   "cell_type": "markdown",
   "metadata": {},
   "source": [
    "- Ou seja todo model é uma classe python e uma subclasse da classe django.db_models.Model\n",
    "\n",
    "- Cada atributo do model representa um campo do model no banco de dados\n",
    "\n",
    "- Sempre que o datamodel é criado o django da uma api para abstração do banco de dados, que permite criar, recuperar, atualizar e deletar objetos\n",
    "\n",
    "- Por tanto não precisaremos reescrever nenhuma query para manipulação do banco"
   ]
  },
  {
   "cell_type": "markdown",
   "metadata": {},
   "source": [
    "V - View, função em python que recebe um requisição web e retorna uma resposta, que pode ser um html, redirecionamento um erro 404, imagem e por ai vai"
   ]
  },
  {
   "cell_type": "markdown",
   "metadata": {},
   "source": [
    "T - Template, arquivo texto para gerar qualquer formato em arquivo texto\n",
    "\n",
    "Contem partes estáticas da saida html e algumas sintaxe especial\n",
    "\n",
    "DLT(Django Template Language) - contém variavel e tags que controlam a lógica do template\n",
    "\n",
    "- As tags são delimitadas por chaves %\n",
    "- Usamos a tag \"extends\" para herdar a base.generic.html\n",
    "- A tag block, para especificar um bloco, no caso o titulo e conteúdo\n",
    "- Uma tag de looping com for\n",
    "- As variáveis são delimitadas por {{}}, elas podem ser um valor ou uma estrutura de dados mais complexa como um objeto ou método\n",
    "- usamos filtros que modificam as variáveis e são representadas por um pipe \"|\", como por exemplo o \"|uppeer\" que transforma todos caracteres em maiusculo\n",
    "\n"
   ]
  },
  {
   "cell_type": "markdown",
   "metadata": {},
   "source": [
    "## Django é muito usado em..\n",
    "\n",
    "- Autenticação\n",
    "- Rotas\n",
    "- Object Relational Map (ORM)\n",
    "- Migration (Solução para versionamento de Banco de Dados)\n",
    "\n",
    "Assim ganhamos produtividade e temos aplicações perfomaticas\n",
    "\n",
    "## DRY - Dont Repeat Yourself\n",
    "\n",
    "Não repita códigos em seu projeto\n",
    "\n",
    "## Preza por segurança\n",
    "\n",
    "Traz recurso para ataques mais conhecidos como:\n",
    "\n",
    "- Injeção SQL\n",
    "- Cross Site Scriptiong (XSS)\n",
    "- Cross Site Request Forgery (CSRF)\n",
    "- ClickJacking\n",
    "\n",
    "\n",
    "# Para criar um projeto com Django\n",
    "\n",
    "1 - Ter o Python instalado na máquina\n",
    "\n",
    "2 - Usar o pip para instalar o django e suas dependencias, com <code>pip install Django</code>\n",
    "\n",
    "3 - Com o django instalado, para criar nosso projeto com <code>django-admin startproject nome_projeto</code> e pronto, todos arquivos inciais serão criados!\n",
    "\n",
    "4 - Para rodar basta inserir o comando <code>python manage.py runserver</code>, apos isso nossa aplicação fica disponivel no localhost na porta padrão 8000\n",
    "\n",
    "5- Acessando a porta pelo navegador, vc verá que deu tudo certo!\n",
    "\n",
    "Se quiser podemos acessar o tutorial direto da fonte em: https://www.djangoproject.com/start/\n",
    "\n",
    "\n",
    "\n"
   ]
  },
  {
   "cell_type": "markdown",
   "metadata": {},
   "source": [
    "# Curiosidade\n",
    "\n",
    "Nome Django é uma homenagem ao Django Reinhardt, um famoso guitarrista de jazz, foi um famoso guitarrista de Jaz"
   ]
  }
 ],
 "metadata": {
  "language_info": {
   "name": "python"
  }
 },
 "nbformat": 4,
 "nbformat_minor": 2
}
