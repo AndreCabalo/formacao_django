{
 "cells": [
  {
   "cell_type": "markdown",
   "metadata": {},
   "source": [
    "Para que possamos navegar nas paginas usando o click, devemos fazer algumas adequações:\n",
    "\n",
    "Em GALERIA>URLS.PY \n",
    "\n",
    " Adicionameremos **name='imagem'** no path, da seguinte maneira:"
   ]
  },
  {
   "cell_type": "code",
   "execution_count": null,
   "metadata": {},
   "outputs": [],
   "source": [
    "# Iremos importar:\n",
    "from django.urls import path\n",
    "from galeria.views import index,imagem\n",
    "\n",
    "# Criaremos um lista de urls, que a importaremos la para setup urls.py\n",
    "urlpatterns = [\n",
    "    path('',index),\n",
    "    path('imagem/',imagem, name='imagem')\n",
    "]"
   ]
  },
  {
   "cell_type": "markdown",
   "metadata": {},
   "source": [
    "No index.html, na ancora onde nos levava para um imagem.html iremos subistutir por:\n",
    "\n",
    "**Lembrando que deveremos fazer isso em todos os links que queremos que nos leve para esta imagem**"
   ]
  },
  {
   "cell_type": "code",
   "execution_count": null,
   "metadata": {
    "vscode": {
     "languageId": "html"
    }
   },
   "outputs": [],
   "source": [
    "<!-- Como era: -->\n",
    "<a href=\"imagem.html\">\n",
    "\n",
    "<!-- Como ficou -->\n",
    "<a href=\"{% url 'imagem' %}\"></a>               Onde usamos código django (\"{% %}\") e dentro dele apontamos que queremos ir para uma url, com nome de imagem"
   ]
  },
  {
   "cell_type": "markdown",
   "metadata": {},
   "source": [
    "Agora faremos o mesmo, porém para voltar a pagina index!\n",
    "\n",
    "- Para isso vamos atribuir um name a pagina index, la no URL de GALERIA\n",
    "- E alterar o ancora que chama o index.html seguindo o padrão django."
   ]
  },
  {
   "cell_type": "code",
   "execution_count": null,
   "metadata": {},
   "outputs": [],
   "source": [
    "# Criaremos um lista de urls, que a importaremos la para setup urls.py\n",
    "urlpatterns = [\n",
    "    path('',index, name='index'),              #ADICIONAMOS O name='index'\n",
    "    path('imagem/',imagem, name='imagem')\n",
    "]"
   ]
  },
  {
   "cell_type": "code",
   "execution_count": null,
   "metadata": {
    "vscode": {
     "languageId": "html"
    }
   },
   "outputs": [],
   "source": [
    "<!-- Antes era -->\n",
    "<a href=\"index.html\"><img src=\"{% static '/assets/ícones/1x/Home - ativo.png' %}\"> Home</a>\n",
    "\n",
    "<!-- Como ficou -->\n",
    "<a href=\"{% url 'index' %}\"><img src=\"{% static '/assets/ícones/1x/Home - ativo.png' %}\"> Home</a>"
   ]
  },
  {
   "cell_type": "markdown",
   "metadata": {},
   "source": [
    "# DRY - DONT REAPEAT YOURSELF\n",
    "\n",
    "Conceito que busca não repetir nosso código inúmeras vezes! Criando componentes para evitar essa repetição, para isso:\n",
    "\n",
    "- Dentro de galeria, criaremos o base HTML.\n",
    "\n",
    "Onde dentro deste base HTML copiaremos tudo aquilo que se repete nas demais páginas,\n",
    "\n",
    "Além disso adicionaremos o  **{% block content %}    {% endblock %}**, onde nos permitira apontar aonde o conteúdo exclusivo de cada page entrará!\n",
    "\n",
    "Nas demais pagínas que queremos repetir este base.html, **{% extends 'galeria/base.html' %}{% load static %}{% block content %}.....CONTEUDO EXCLUSIVO......{% endblock %}**\n",
    "\n",
    "Da seguinte maneira:\n"
   ]
  },
  {
   "cell_type": "code",
   "execution_count": null,
   "metadata": {
    "vscode": {
     "languageId": "html"
    }
   },
   "outputs": [],
   "source": [
    "<!-- BASE URL  -->\n",
    "\n",
    "{% load static %}\n",
    "<!DOCTYPE html>\n",
    "<html lang=\"pt-br\">\n",
    "\n",
    "<head>\n",
    "    <meta charset=\"UTF-8\">\n",
    "    <meta http-equiv=\"X-UA-Compatible\" content=\"IE=edge\">\n",
    "    <meta name=\"viewport\" content=\"width=device-width, initial-scale=1.0\">\n",
    "    <title>Alura Space</title>\n",
    "    <link rel=\"preconnect\" href=\"https://fonts.googleapis.com\">\n",
    "    <link rel=\"preconnect\" href=\"https://fonts.gstatic.com\" crossorigin>\n",
    "    <link href=\"https://fonts.googleapis.com/css2?family=Space+Grotesk:wght@400;500;600&display=swap\" rel=\"stylesheet\">\n",
    "    <link rel=\"stylesheet\" href=\"{% static '/styles/style.css' %}\">\n",
    "</head>\n",
    "<body>\n",
    "\n",
    "    {% block content %}\n",
    "    {% endblock %}\n",
    "\n",
    "</body>\n",
    "</html>"
   ]
  },
  {
   "cell_type": "code",
   "execution_count": null,
   "metadata": {
    "vscode": {
     "languageId": "html"
    }
   },
   "outputs": [],
   "source": [
    "<!-- INDEX HTML  -->\n",
    "\n",
    "{% extends 'galeria/base.html' %}\n",
    "{% load static %}\n",
    "{% block content %}\n",
    "    <div class=\"pagina-inicial\">\n",
    "        <header class=\"cabecalho\">\n",
    "            <img src=\"{% static '/assets/logo/Logo(2).png' %}\" alt=\"Logo da Alura Space\" />\n",
    "            <div class=\"cabecalho__busca\">\n",
    "                <div class=\"busca__fundo\">\n",
    "                    <input class=\"busca__input\" type=\"text\" placeholder=\"O que você procura?\">\n",
    "                    <img class=\"busca__icone\" src=\"{% static '/assets/ícones/1x/search.png' %}\" alt=\"ícone de search\">\n",
    "                </div>\n",
    "            </div>\n",
    "        </header>\n",
    "        <main class=\"principal\">\n",
    "            <section class=\"menu-lateral\">\n",
    "                <nav class=\"menu-lateral__navegacao\">\n",
    "                    <a href=\"#\"><img src=\"{% static '/assets/ícones/1x/Home - ativo.png ' %}\"> Home</a>\n",
    "                    <a href=\"#\"><img src=\"{% static '/assets/ícones/1x/Mais vistas - inativo.png ' %}\"> Mais vistas</a>\n",
    "                    <a href=\"#\"><img src=\"{% static '/assets/ícones/1x/Novas - inativo.png ' %}\"> Novas</a>\n",
    "                    <a href=\"#\"><img src=\"{% static '/assets/ícones/1x/Surpreenda-me - inativo.png ' %}\"> Surpreenda-me</a>\n",
    "                </nav>\n",
    "            </section>\n",
    "            <section class=\"conteudo\">\n",
    "                <section class=\"banner\">\n",
    "                    <img class=\"banner__imagem\" src=\"{% static '/assets/imagens/Banner(2).png' %}\" alt=\"banner Alura Space\">\n",
    "                    <h1 class=\"banner__titulo\"> A galeria mais completa de fotos do espaço!</h1>\n",
    "                </section>\n",
    "                <section class=\"tags\">\n",
    "                    <p class=\"tags__titulo\">Busque por tags:</p>\n",
    "                    <ul class=\"tags__lista\">\n",
    "                        <li class=\"tags__tag\">Nebulosa</li>\n",
    "                        <li class=\"tags__tag\">Estrela</li>\n",
    "                        <li class=\"tags__tag\">Galáxia</li>\n",
    "                        <li class=\"tags__tag\">Planeta</li>\n",
    "                    </ul>\n",
    "                </section>\n",
    "                <section class=\"galeria\">\n",
    "                    <div class=\"cards\">\n",
    "                        <h2 class=\"cards__titulo\">Navegue pela galeria</h2>\n",
    "                        <ul class=\"cards__lista\">\n",
    "                            <li class=\"card\">\n",
    "                                <a href=\"{% url 'imagem' %}\">\n",
    "                                    <img class=\"card__imagem\" src=\"{% static '/assets/imagens/galeria/carina-nebula.png' %}\" alt=\"foto\">\n",
    "                                </a>\n",
    "                                <span class=\"card__tag\">Estrelas</span>\n",
    "                                <div class=\"card__info\">\n",
    "                                    <p class=\"card__titulo\">Nome da foto</p>\n",
    "                                    <div class=\"card__texto\">\n",
    "                                        <p class=\"card__descricao\">Fonte/fotógrafo/satélite</p>\n",
    "                                        <span>\n",
    "                                            <img src=\"{% static '/assets/ícones/1x/favorite_outline.png' %}\" alt=\"ícone de coração\">\n",
    "                                        </span>\n",
    "                                    </div>\n",
    "                                </div>\n",
    "                            </li>\n",
    "                            <li class=\"card\">\n",
    "                                <a href=\"{% url 'imagem' %}\">\n",
    "                                    <img class=\"card__imagem\" src=\"{% static '/assets/imagens/galeria/carina-nebula.png' %}\" alt=\"foto\">\n",
    "                                </a>\n",
    "                                <span class=\"card__tag\">Estrelas</span>\n",
    "                                <div class=\"card__info\">\n",
    "                                    <p class=\"card__titulo\">Nome da foto</p>\n",
    "                                    <div class=\"card__texto\">\n",
    "                                        <p class=\"card__descricao\">Fonte/fotógrafo/satélite</p>\n",
    "                                        <span>\n",
    "                                            <img src=\"{% static '/assets/ícones/1x/favorite_outline.png' %}\" alt=\"ícone de coração\">\n",
    "                                        </span>\n",
    "                                    </div>\n",
    "                                </div>\n",
    "                            </li>\n",
    "                            <li class=\"card\">\n",
    "                                <a href=\"{% url 'imagem' %}\">\n",
    "                                    <img class=\"card__imagem\" src=\"{% static '/assets/imagens/galeria/carina-nebula.png' %}\" alt=\"foto\">\n",
    "                                </a>\n",
    "                                <span class=\"card__tag\">Estrelas</span>\n",
    "                                <div class=\"card__info\">\n",
    "                                    <p class=\"card__titulo\">Nome da foto</p>\n",
    "                                    <div class=\"card__texto\">\n",
    "                                        <p class=\"card__descricao\">Fonte/fotógrafo/satélite</p>\n",
    "                                        <span>\n",
    "                                            <img src=\"{% static '/assets/ícones/1x/favorite_outline.png' %}\" alt=\"ícone de coração\">\n",
    "                                        </span>\n",
    "                                    </div>\n",
    "                                </div>\n",
    "                            </li>\n",
    "                            <li class=\"card\">\n",
    "                                <a href=\"{% url 'imagem' %}\">\n",
    "                                    <img class=\"card__imagem\" src=\"{% static '/assets/imagens/galeria/carina-nebula.png' %}\" alt=\"foto\">\n",
    "                                </a>\n",
    "                                <span class=\"card__tag\">Estrelas</span>\n",
    "                                <div class=\"card__info\">\n",
    "                                    <p class=\"card__titulo\">Nome da foto</p>\n",
    "                                    <div class=\"card__texto\">\n",
    "                                        <p class=\"card__descricao\">Fonte/fotógrafo/satélite</p>\n",
    "                                        <span>\n",
    "                                            <img src=\"{% static '/assets/ícones/1x/favorite_outline.png' %}\" alt=\"ícone de coração\">\n",
    "                                        </span>\n",
    "                                    </div>\n",
    "                                </div>\n",
    "                            </li>\n",
    "                            <li class=\"card\">\n",
    "                                <a href=\"{% url 'imagem' %}\">\n",
    "                                    <img class=\"card__imagem\" src=\"{% static '/assets/imagens/galeria/carina-nebula.png' %}\" alt=\"foto\">\n",
    "                                </a>\n",
    "                                <span class=\"card__tag\">Estrelas</span>\n",
    "                                <div class=\"card__info\">\n",
    "                                    <p class=\"card__titulo\">Nome da foto</p>\n",
    "                                    <div class=\"card__texto\">\n",
    "                                        <p class=\"card__descricao\">Fonte/fotógrafo/satélite</p>\n",
    "                                        <span>\n",
    "                                            <img src=\"{% static '/assets/ícones/1x/favorite_outline.png' %}\" alt=\"ícone de coração\">\n",
    "                                        </span>\n",
    "                                    </div>\n",
    "                                </div>\n",
    "                            </li>\n",
    "                            <li class=\"card\">\n",
    "                                <a href=\"{% url 'imagem' %}\">\n",
    "                                    <img class=\"card__imagem\" src=\"{% static '/assets/imagens/galeria/carina-nebula.png' %}\" alt=\"foto\">\n",
    "                                </a>\n",
    "                                <span class=\"card__tag\">Estrelas</span>\n",
    "                                <div class=\"card__info\">\n",
    "                                    <p class=\"card__titulo\">Nome da foto</p>\n",
    "                                    <div class=\"card__texto\">\n",
    "                                        <p class=\"card__descricao\">Fonte/fotógrafo/satélite</p>\n",
    "                                        <span>\n",
    "                                            <img src=\"{% static '/assets/ícones/1x/favorite_outline.png' %}\" alt=\"ícone de coração\">\n",
    "                                        </span>\n",
    "                                    </div>\n",
    "                                </div>\n",
    "                            </li>\n",
    "                        </ul>\n",
    "                    </div>\n",
    "                </section>\n",
    "            </section>\n",
    "        </main>\n",
    "    </div>\n",
    "    <footer class=\"rodape\">\n",
    "        <div class=\"rodape__icones\">\n",
    "            <a href=\"https://twitter.com/AluraOnline\" target=”_blank” >\n",
    "                <img src=\"{% static '/assets/ícones/1x/twitter.png' %}\" alt=\"ícone twitter\">\n",
    "            </a>\n",
    "            <a href=\"https://www.instagram.com/aluraonline/\" target=”_blank” >\n",
    "                <img src=\"{% static '/assets/ícones/1x/instagram.png' %}\" alt=\"ícone instagram\">\n",
    "            </a>\n",
    "        </div>\n",
    "        <p class=\"rodape__texto\">Desenvolvido por Alura</p>\n",
    "    </footer>\n",
    "{% endblock %}"
   ]
  },
  {
   "cell_type": "markdown",
   "metadata": {},
   "source": [
    "# Partials\n",
    "\n",
    "Queremos reaproveitar o código, mas queremos algumas personalizações, para isso usamos os Partials, podemos usar Partials, que são como componentes (partes) para isso:\n",
    "\n",
    "1- Criamos uma pasta chamada \"PARTIALS\" DENTRO DE TEMPLATES> GALERIA e dentro desta pasta \"PARTIALS\" criamos um arquivo chamado \"_footer.html\"\n",
    "\n",
    "**A convenção no diz que devemos iniciar os partials com \"_\" underline\n",
    "\n",
    "Pegamos o conteudo footer das paginas imagem.html e index.html o recortamos e criarmos no nosso arquivo _footer.html e ele ficou desta maneira:"
   ]
  },
  {
   "cell_type": "code",
   "execution_count": null,
   "metadata": {
    "vscode": {
     "languageId": "html"
    }
   },
   "outputs": [],
   "source": [
    "{% load static%}\n",
    "<footer class=\"rodape\">\n",
    "    <div class=\"rodape__icones\">\n",
    "        <a href=\"https://twitter.com/AluraOnline\" target=”_blank” >\n",
    "            <img src=\"{% static '/assets/ícones/1x/twitter.png' %}\" alt=\"ícone twitter\">\n",
    "        </a>\n",
    "        <a href=\"https://www.instagram.com/aluraonline/\" target=”_blank” >\n",
    "            <img src=\"{% static '/assets/ícones/1x/instagram.png' %}\" alt=\"ícone instagram\">\n",
    "        </a>\n",
    "    </div>\n",
    "    <p class=\"rodape__texto\">Desenvolvido por Alura</p>\n",
    "</footer>"
   ]
  },
  {
   "cell_type": "markdown",
   "metadata": {},
   "source": [
    "Para chamar o partials em algum html usando django fazemos o seguinte:\n",
    "\n",
    "No exemplo em base.html:"
   ]
  },
  {
   "cell_type": "code",
   "execution_count": null,
   "metadata": {
    "vscode": {
     "languageId": "html"
    }
   },
   "outputs": [],
   "source": [
    "{% load static %}\n",
    "<!DOCTYPE html>\n",
    "<html lang=\"pt-br\">\n",
    "\n",
    "<head>\n",
    "    <meta charset=\"UTF-8\">\n",
    "    <meta http-equiv=\"X-UA-Compatible\" content=\"IE=edge\">\n",
    "    <meta name=\"viewport\" content=\"width=device-width, initial-scale=1.0\">\n",
    "    <title>Alura Space</title>\n",
    "    <link rel=\"preconnect\" href=\"https://fonts.googleapis.com\">\n",
    "    <link rel=\"preconnect\" href=\"https://fonts.gstatic.com\" crossorigin>\n",
    "    <link href=\"https://fonts.googleapis.com/css2?family=Space+Grotesk:wght@400;500;600&display=swap\" rel=\"stylesheet\">\n",
    "    <link rel=\"stylesheet\" href=\"{% static '/styles/style.css' %}\">\n",
    "</head>\n",
    "<body>\n",
    "\n",
    "    {% block content %} {% endblock %}\n",
    "    {% include 'galeria/partials/_footer.html' %}           <<INSERIMOS O COMANDO AQUI\n",
    "\n",
    "</body>\n",
    "</html>"
   ]
  }
 ],
 "metadata": {
  "language_info": {
   "name": "python"
  }
 },
 "nbformat": 4,
 "nbformat_minor": 2
}
