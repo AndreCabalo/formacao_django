{
 "cells": [
  {
   "cell_type": "markdown",
   "metadata": {},
   "source": [
    "# Arquivos estáticos\n",
    "\n",
    "\n",
    "Para criar os arquivos staticos, recomenda-se ir no arquivo SETTINGS da pasta SETUP e criar um diretório de arquivos staticos"
   ]
  },
  {
   "cell_type": "code",
   "execution_count": null,
   "metadata": {},
   "outputs": [],
   "source": [
    "STATICFILES_DIRS = []   #Diretorio de arquivos staticos"
   ]
  },
  {
   "cell_type": "markdown",
   "metadata": {},
   "source": [
    "Criaremos tbm uma pasta chamada STATIC, dentro da pasta SETUP, apos isso apontaremos no STATICFILES_DIRS esta diretório, Além disso criaremos tbm o STATIC ROOT que é a raiz dos caminhos"
   ]
  },
  {
   "cell_type": "code",
   "execution_count": null,
   "metadata": {},
   "outputs": [],
   "source": [
    "STATICFILES_DIRS = [                                            #Diretorio de arquivos staticos\n",
    "    os.path.join(BASE_DIR, 'setup/static')\n",
    "]   \n",
    "\n",
    "\n",
    "STATIC_ROOT = os.path.join(BASE_DIR, 'static')                 #RAIZ DOS CAMINHOS, ONDE O PYTHON IRA COLETAR ESTES MÉTODOS"
   ]
  },
  {
   "cell_type": "markdown",
   "metadata": {},
   "source": [
    "Copiamos todos os arquivos assets e styles + imagens para nossa pasta STATIC, que fica dentro de SETUP!"
   ]
  },
  {
   "cell_type": "markdown",
   "metadata": {},
   "source": [
    "Comando para manipular todos os arquivos static da aplicação : COLLECTSTATIC, onde o comando ira nos endereçar todos os arquivos.\n",
    "\n",
    "APOS ISSO, va no arquivo HTML e na primeira linha adicione o comando:"
   ]
  },
  {
   "cell_type": "code",
   "execution_count": null,
   "metadata": {},
   "outputs": [],
   "source": [
    "{% load static %}          #adicione esta linha\n",
    "\n",
    "<!DOCTYPE html>\n",
    "<html lang=\"pt-br\">\n",
    "....."
   ]
  },
  {
   "cell_type": "markdown",
   "metadata": {},
   "source": [
    "Por fim, adicone tbm a mudança no caminha do style.css, embedando o código em python e avisando que este será statico!"
   ]
  },
  {
   "cell_type": "code",
   "execution_count": null,
   "metadata": {},
   "outputs": [],
   "source": [
    "<link rel=\"stylesheet\" href=\"{% static '/styles/style.css' %}\">         # embedando código em python no html"
   ]
  },
  {
   "cell_type": "markdown",
   "metadata": {},
   "source": [
    "# Carreganndo imagens\n",
    "\n",
    "Apos mudar o endereçamento do style.css, precisamos também mudar o endereçamento das imagens, seguindo o mesmo padrão! \"{% static '.....' %}\"\n"
   ]
  },
  {
   "cell_type": "code",
   "execution_count": null,
   "metadata": {},
   "outputs": [],
   "source": [
    "#Como era:\n",
    "<img src=\"/assets/logo/Logo(2).png\" alt=\"Logo da Alura Space\" />\n",
    "\n",
    "#Como ficou\n",
    "<img src=\"{% static '/assets/logo/Logo(2).png' %}\" alt=\"Logo da Alura Space\" />"
   ]
  },
  {
   "cell_type": "markdown",
   "metadata": {},
   "source": [
    "# Carregando outra pagina\n",
    "\n",
    "Para isso criamos dentro de TEMPLATE>GALERIA> imagem.html, carregamos este arquivo,\n",
    "\n",
    "Vamos em view.py DA PASTA GALERIA, e criamos um nova função:"
   ]
  },
  {
   "cell_type": "code",
   "execution_count": null,
   "metadata": {},
   "outputs": [],
   "source": [
    "def imagem(request):\n",
    "    return render(request, 'galeria/imagem.html') "
   ]
  },
  {
   "cell_type": "markdown",
   "metadata": {},
   "source": [
    "Em URLS.PY da pasta GALERIA, iremos criar tbm o path para imagem da seguinte maneira:"
   ]
  },
  {
   "cell_type": "code",
   "execution_count": null,
   "metadata": {},
   "outputs": [],
   "source": [
    "# Iremos importar:\n",
    "from django.urls import path\n",
    "from galeria.views import index,imagem     #<<<<<<<<<<Adicionamos imagem\n",
    "\n",
    "# Criaremos um lista de urls, que a importaremos la para setup urls.py\n",
    "urlpatterns = [\n",
    "    path('',index),\n",
    "    path('imagem/',imagem)           # <<<<<<<< adicionamos este path\n",
    "]"
   ]
  },
  {
   "cell_type": "markdown",
   "metadata": {},
   "source": [
    "Não se esqueça de rodar o comando <code>python manage.py collectstatic </code>"
   ]
  }
 ],
 "metadata": {
  "language_info": {
   "name": "python"
  }
 },
 "nbformat": 4,
 "nbformat_minor": 2
}
