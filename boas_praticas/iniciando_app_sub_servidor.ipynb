{
 "cells": [
  {
   "cell_type": "markdown",
   "metadata": {},
   "source": [
    "# Para iniciarmos\n",
    "\n",
    "Recomenda-se que tenhamos:\n",
    "\n",
    "- Pyhton instalado\n",
    "- Instalador de pacotes pip, caso não tenha, basta seguir o script ## Instalação do pip\n",
    "- Instalar o Virtualenv, caso não tenha, basta seguir o script ## Instalação do Virtualenv\n",
    "- Baixar o template construído em HTML e CSS na seguinte página: https://github.com/alura-cursos/alura_space/tree/projeto_front"
   ]
  },
  {
   "cell_type": "markdown",
   "metadata": {},
   "source": [
    "## Instalação do pip\n",
    "\n",
    "Abra o terminal e insira:"
   ]
  },
  {
   "cell_type": "code",
   "execution_count": null,
   "metadata": {},
   "outputs": [],
   "source": [
    "# No Terminal\n",
    "curl https://bootstrap.pypa.io/get-pip.py -o get-pip.py\n"
   ]
  },
  {
   "cell_type": "code",
   "execution_count": null,
   "metadata": {},
   "outputs": [],
   "source": [
    "# No Terminal\n",
    "python get-pip.py\n"
   ]
  },
  {
   "cell_type": "markdown",
   "metadata": {},
   "source": [
    "## Instalação do Virtualenv\n",
    "\n",
    "Abra o terminal e insira:"
   ]
  },
  {
   "cell_type": "code",
   "execution_count": null,
   "metadata": {},
   "outputs": [],
   "source": [
    "# No terminal\n",
    "pip install virtualenv\n"
   ]
  }
 ],
 "metadata": {
  "language_info": {
   "name": "python"
  }
 },
 "nbformat": 4,
 "nbformat_minor": 2
}
