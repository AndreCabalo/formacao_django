{
 "cells": [
  {
   "cell_type": "markdown",
   "metadata": {},
   "source": [
    "# Para iniciarmos\n",
    "\n",
    "Recomenda-se que tenhamos:\n",
    "\n",
    "- Pyhton instalado\n",
    "- Instalador de pacotes pip, caso não tenha, basta seguir o script ## Instalação do pip\n",
    "- Instalar o Virtualenv, caso não tenha, basta seguir o script ## Instalação do Virtualenv\n",
    "- Baixar o template construído em HTML e CSS na seguinte página: https://github.com/alura-cursos/alura_space/tree/projeto_front"
   ]
  },
  {
   "cell_type": "markdown",
   "metadata": {},
   "source": [
    "## Instalação do pip\n",
    "\n",
    "Abra o terminal e insira:"
   ]
  },
  {
   "cell_type": "code",
   "execution_count": null,
   "metadata": {},
   "outputs": [],
   "source": [
    "# No Terminal\n",
    "curl https://bootstrap.pypa.io/get-pip.py -o get-pip.py\n"
   ]
  },
  {
   "cell_type": "code",
   "execution_count": null,
   "metadata": {},
   "outputs": [],
   "source": [
    "# No Terminal\n",
    "python get-pip.py\n"
   ]
  },
  {
   "cell_type": "markdown",
   "metadata": {},
   "source": [
    "## Instalação do Virtualenv\n",
    "\n",
    "Abra o terminal e insira:"
   ]
  },
  {
   "cell_type": "code",
   "execution_count": null,
   "metadata": {},
   "outputs": [],
   "source": [
    "# No terminal\n",
    "pip install virtualenv\n"
   ]
  },
  {
   "cell_type": "markdown",
   "metadata": {},
   "source": [
    "# Django oque é?\n",
    "\n",
    "- É um framework, ou seja um conjunto de ferramentas do projeto.\n",
    "\n",
    "- Que traz uma serie de otimizações\n",
    "\n",
    "## Estrutura do Django \n",
    "\n",
    "- Facilita a criação de aplicações web mais rapidamente e com menos código.\n",
    "\n",
    "- Foi projetado com princípio orientado para conteúdo (content-driven), ou seja foco no desenvolvimento como sites de notícias, blogs e fóruns.\n",
    "\n",
    "- Django provê uma estrutura para uso de banco de dados, nativo.\n",
    "\n",
    "- Facilidade na construção de operações CRUD(Criar, editar, deletar e atualizar)\n",
    "\n",
    "\n",
    "## Historia do Django\n",
    "\n",
    "- Publicado em 2005\n",
    "\n",
    "- Código aberto\n",
    "\n",
    "- Criado para o Jonaldo de notícias do estado do Kanssas\n",
    "\n",
    "- Nome Django é uma homenagem ao guitarrista de Jazz - Django Reinhardt\n",
    "\n",
    "## Porque escolher o Django\n",
    "\n",
    "- Sintaxe Objetivo\n",
    "\n",
    "- ORM nativo ou seja não precisamos escrever SQL\n",
    "\n",
    "- Uma interface de administrador\n",
    "\n",
    "- Segurança contra os principais ataques\n",
    "\n",
    "- Arquitetura MVT (MVC) - Similar ao MVC, estrutura lógica que representa o comportamento dos dados, controler, template\n",
    "\n",
    "- Uma comunidade ativa\n",
    "\n",
    "- única fonte de verdade (Fullstack)"
   ]
  },
  {
   "cell_type": "markdown",
   "metadata": {},
   "source": [
    "# Virtual Lens\n",
    "\n",
    "Abrimos uma pasa e a acessamos com o vs code, abrindo o terminal e inserindo:\n",
    "\n",
    "- Para checkar versão do python\n",
    "<code>python --version</code>\n",
    "\n",
    "- Para checkar versão do virtualenv\n",
    "<code>virtualenv--version</code>\n",
    "\n",
    "Caso não tenha o virtualenv instalado, o instale, com:\n",
    "<code>pip install virtualenv </code>\n",
    "\n",
    "## Primeiro isolaremos o ambiente e dependencias \n",
    "\n",
    "- Para isso, deveremos, inserir \"virtualenv nomequalquer\":\n",
    "\n",
    "<code>virtualenv venv</code>\n",
    "\n",
    "- Com isso ele ja criara duas pastas\n",
    "\n",
    "- Após criar, precisamos ativar a virtualenv, para isso:\n",
    "\n",
    "<code>venv\\Scripts\\activate</code>\n",
    "\n",
    "- Lembrando que é \"\\\" e não \"/\"\n",
    "\n",
    "- Para desativa é simples:\n",
    "\n",
    "<code>deactivate</code>\n",
    "\n",
    "## Instalar o Django\n",
    "\n",
    "- Para instalar o Django usamos o comando:\n",
    "\n",
    "<code>pip install django</code>\n",
    "\n",
    "- Caso queira, pode atualizar a versão Django tbm, seguindo a sugestão do terminal!"
   ]
  },
  {
   "cell_type": "markdown",
   "metadata": {},
   "source": [
    "# Servidor\n",
    "\n",
    "Existe uma forma para visualizar todos as dependencias do projeto, para isso usamos o comando:\n",
    "\n",
    "<code>pip freeze</code>\n",
    "\n",
    "Onde é descrito todas os requisitos para rodar a aplicação até o momento, por tanto é recomendado que guardemos os requerimentos em um arquivo txt, da seguinte forma:\n",
    "\n",
    "<code>pip freeze > requirements.txt </code>\n",
    "\n",
    "Com isso é criado um arquivo txt com todos os requerimentos\n",
    "\n",
    "- Lembrando que sempre que instalarmos um novo requerimentos, biblioteca, framework, devemos atualizar esse comando novamente, para manter o arquivo requeriments.txt atualizado\n",
    "\n",
    "# Iniciando os passos no Django\n",
    "\n",
    "Para visualizarmos os comandos de Django podemos utilizar o comando:\n",
    "\n",
    "<code>django-admin help</code>\n",
    "\n",
    "- Onde será mostrado uma lista com os comandos disponíveis do django\n",
    "- Entre eles temos o <code>startproject</code>, comando que sempre devemos usar ao começar um projeto, que sempre deve ser solicitado da seguinte maneira:\n",
    "\n",
    "<code>django-admin startproject nomeProjeto</code>\n",
    "\n",
    "- Segundo a convenção indica que o nome do arquivo seja config ou setup"
   ]
  }
 ],
 "metadata": {
  "language_info": {
   "name": "python"
  }
 },
 "nbformat": 4,
 "nbformat_minor": 2
}
